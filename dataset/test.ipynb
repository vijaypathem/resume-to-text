{
 "cells": [
  {
   "cell_type": "code",
   "execution_count": 20,
   "metadata": {},
   "outputs": [
    {
     "name": "stdout",
     "output_type": "stream",
     "text": [
      "<class 'pandas.core.frame.DataFrame'>\n",
      "RangeIndex: 50 entries, 0 to 49\n",
      "Data columns (total 1 columns):\n",
      " #   Column      Non-Null Count  Dtype \n",
      "---  ------      --------------  ----- \n",
      " 0   ResumeData  32 non-null     object\n",
      "dtypes: object(1)\n",
      "memory usage: 532.0+ bytes\n"
     ]
    }
   ],
   "source": [
    "import pandas as pd\n",
    "df = pd.read_csv(\"C:/Users/vijay/OneDrive/Desktop/FastApi/dataset/resumedata.csv\")\n",
    "df.info()"
   ]
  },
  {
   "cell_type": "code",
   "execution_count": 23,
   "metadata": {},
   "outputs": [
    {
     "data": {
      "text/plain": [
       "'2. Prediction of Parkinson Disease Using XGBOOST With GRADIO The main theme of the project is to accomplish improved accuracy of the models used for detecting and predicrting parkinson’s disease. 3. Django Projects Little Lemon Restaurant, Blog webpage, Task Manager 4. JavaScript projects Guess number game, Banking App, Password picker, Tic-Toc-Toy'"
      ]
     },
     "execution_count": 23,
     "metadata": {},
     "output_type": "execute_result"
    }
   ],
   "source": [
    "df[\"ResumeData\"][49]"
   ]
  },
  {
   "cell_type": "code",
   "execution_count": 19,
   "metadata": {},
   "outputs": [
    {
     "data": {
      "text/plain": [
       "\"Projects 1. CHATBOT USING OPENCV The main purpose of this chatbot is to respond to user queries without man power. This analysis is done, using python packages. 2. Prediction of Parkinson Disease Using XGBOOST With GRADIO The main theme of the project is to accomplish improved accuracy of the models used for detecting and predicrting parkinson’s disease. 7993868819 Hyderabad vijaypathem4@gmail.com PortFolio Linkedin Vijay pathem SOFTWARE ENGINEER Objective Bachelor's degree in Computer Science seeking a position as a Software Developer. Proficient in Python programming, and web development. Highly motivated and eager to learn new skills. Looking to join a dynamic team where I can contribute my skills and grow as a Software Developer. Education 2019 - 2023 Malla Reddy College OF Engineering Bachelor of Technology Computer science and Engineering Cgpa – 6.8/10 2017 - 2019 Loyola Junior College Intermidiate Percentage – 94% 2016 - 2017 TS Model School Class 10 Cgpa 9.0/10 Programming Skills Python, Django Web Framework, Django Rest Framework, JavaScript, Html, Css, Github, pandas 3. Django Projects Little Lemon Restraunt, Blog webpage, Task Manager 4. JavaScript projects Guess number game, Banking App, Password picker, Tic-Toc-Toy Experience 2022 Python Intern I worked as a python intern at Lok Samvad Sanstan for 2 months. Skills : python, pandas Achievements CERTIFICATIONS Accenture Developer Program (Forage) Back-End Engineering Virtual Experience (Forage – Lyft) Software Engineering Virtual Experience (Forage – Jp morgan & co. ) Django Web Framework (coursera – meta ) Django Rest Framework (coursera – meta) Pandas, Numpy by Great Learning Personal skills Leadership : I have the ability to Lead, Influence and Guide other individuals and Teams. Critical Thinking: I have strong critical thinking skills to solve problems and make decisions. Teamwork: I’m really good at working together with others as a team. Personal Information Full Name Vijay Pathem Date of Birth 18 may 2002 Gender Male Address Hyderabad, Telangana, India\""
      ]
     },
     "execution_count": 19,
     "metadata": {},
     "output_type": "execute_result"
    }
   ],
   "source": [
    "df[\"ResumeData\"][47]"
   ]
  },
  {
   "cell_type": "code",
   "execution_count": null,
   "metadata": {},
   "outputs": [],
   "source": []
  }
 ],
 "metadata": {
  "kernelspec": {
   "display_name": "fastenv",
   "language": "python",
   "name": "python3"
  },
  "language_info": {
   "codemirror_mode": {
    "name": "ipython",
    "version": 3
   },
   "file_extension": ".py",
   "mimetype": "text/x-python",
   "name": "python",
   "nbconvert_exporter": "python",
   "pygments_lexer": "ipython3",
   "version": "3.11.4"
  }
 },
 "nbformat": 4,
 "nbformat_minor": 2
}
